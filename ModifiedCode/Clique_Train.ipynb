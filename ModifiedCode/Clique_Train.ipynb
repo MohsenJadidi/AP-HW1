{
  "nbformat": 4,
  "nbformat_minor": 0,
  "metadata": {
    "colab": {
      "name": "Clique-Train.ipynb",
      "provenance": [],
      "collapsed_sections": [],
      "authorship_tag": "ABX9TyP2/POhqtg0/+hhVX5r6TUr",
      "include_colab_link": true
    },
    "kernelspec": {
      "display_name": "Python 3",
      "name": "python3"
    },
    "accelerator": "GPU"
  },
  "cells": [
    {
      "cell_type": "markdown",
      "metadata": {
        "id": "view-in-github",
        "colab_type": "text"
      },
      "source": [
        "<a href=\"https://colab.research.google.com/github/MohsenJadidi/AP-HW1/blob/master/ModifiedCode/Clique_Train.ipynb\" target=\"_parent\"><img src=\"https://colab.research.google.com/assets/colab-badge.svg\" alt=\"Open In Colab\"/></a>"
      ]
    },
    {
      "cell_type": "markdown",
      "metadata": {
        "id": "P1WuZ8bybLIi"
      },
      "source": [
        "# Install package"
      ]
    },
    {
      "cell_type": "code",
      "metadata": {
        "id": "tG0B8THCYorU"
      },
      "source": [
        "# !pip install torch_scatter==latest+cu101 torch_sparse==latest+cu101\r\n",
        "# !pip install torch_geometric\r\n"
      ],
      "execution_count": null,
      "outputs": []
    },
    {
      "cell_type": "code",
      "metadata": {
        "colab": {
          "base_uri": "https://localhost:8080/"
        },
        "id": "sWhfRgbIaTqh",
        "outputId": "69addb6b-59ab-4c3e-8966-95bc174e80a6"
      },
      "source": [
        "!pip install torch_scatter\r\n",
        "!pip install torch_sparse\r\n",
        "!pip install torch_geometric\r\n"
      ],
      "execution_count": 2,
      "outputs": [
        {
          "output_type": "stream",
          "text": [
            "Collecting torch_scatter\n",
            "  Downloading https://files.pythonhosted.org/packages/01/45/cd93ed3227248773ba8bc4b3beaa04e8bddb127a793a41bad875369951b3/torch_scatter-2.0.5.tar.gz\n",
            "Building wheels for collected packages: torch-scatter\n",
            "  Building wheel for torch-scatter (setup.py) ... \u001b[?25l\u001b[?25hdone\n",
            "  Created wheel for torch-scatter: filename=torch_scatter-2.0.5-cp37-cp37m-linux_x86_64.whl size=11781143 sha256=ce3ca5bb33e220ddad6a005beefbfe3751bacc7094553f26dbca1861c69c7b26\n",
            "  Stored in directory: /root/.cache/pip/wheels/42/59/d3/9866e4fd8e1fe9260740acfe22322c428bc0dc064d3ebc456c\n",
            "Successfully built torch-scatter\n",
            "Installing collected packages: torch-scatter\n",
            "Successfully installed torch-scatter-2.0.5\n",
            "Collecting torch_sparse\n",
            "  Downloading https://files.pythonhosted.org/packages/3c/dd/f34dce6512a3922948c3ac0cf50cceb2eeafeedd34a278d502eb77d07dc0/torch_sparse-0.6.8.tar.gz\n",
            "Requirement already satisfied: scipy in /usr/local/lib/python3.7/dist-packages (from torch_sparse) (1.4.1)\n",
            "Requirement already satisfied: numpy>=1.13.3 in /usr/local/lib/python3.7/dist-packages (from scipy->torch_sparse) (1.19.5)\n",
            "Building wheels for collected packages: torch-sparse\n",
            "  Building wheel for torch-sparse (setup.py) ... \u001b[?25l\u001b[?25hdone\n",
            "  Created wheel for torch-sparse: filename=torch_sparse-0.6.8-cp37-cp37m-linux_x86_64.whl size=23331502 sha256=6862733edb3ad40e1a3cba2023cbf8a355e3936855496a550761dcb519227974\n",
            "  Stored in directory: /root/.cache/pip/wheels/31/d3/94/e2560941994bebe665b1dccc69faf33d33aeee2bca353c9bcc\n",
            "Successfully built torch-sparse\n",
            "Installing collected packages: torch-sparse\n",
            "Successfully installed torch-sparse-0.6.8\n",
            "Collecting torch_geometric\n",
            "\u001b[?25l  Downloading https://files.pythonhosted.org/packages/59/5c/3e95b76321fb14f24cc2ace392075717f645c4632e796ee0db1bc7d17231/torch_geometric-1.6.3.tar.gz (186kB)\n",
            "\u001b[K     |████████████████████████████████| 194kB 19.8MB/s \n",
            "\u001b[?25hRequirement already satisfied: torch in /usr/local/lib/python3.7/dist-packages (from torch_geometric) (1.7.0+cu101)\n",
            "Requirement already satisfied: numpy in /usr/local/lib/python3.7/dist-packages (from torch_geometric) (1.19.5)\n",
            "Requirement already satisfied: tqdm in /usr/local/lib/python3.7/dist-packages (from torch_geometric) (4.41.1)\n",
            "Requirement already satisfied: scipy in /usr/local/lib/python3.7/dist-packages (from torch_geometric) (1.4.1)\n",
            "Requirement already satisfied: networkx in /usr/local/lib/python3.7/dist-packages (from torch_geometric) (2.5)\n",
            "Requirement already satisfied: python-louvain in /usr/local/lib/python3.7/dist-packages (from torch_geometric) (0.15)\n",
            "Requirement already satisfied: scikit-learn in /usr/local/lib/python3.7/dist-packages (from torch_geometric) (0.22.2.post1)\n",
            "Requirement already satisfied: numba in /usr/local/lib/python3.7/dist-packages (from torch_geometric) (0.51.2)\n",
            "Requirement already satisfied: requests in /usr/local/lib/python3.7/dist-packages (from torch_geometric) (2.23.0)\n",
            "Requirement already satisfied: pandas in /usr/local/lib/python3.7/dist-packages (from torch_geometric) (1.1.5)\n",
            "Collecting rdflib\n",
            "\u001b[?25l  Downloading https://files.pythonhosted.org/packages/d0/6b/6454aa1db753c0f8bc265a5bd5c10b5721a4bb24160fb4faf758cf6be8a1/rdflib-5.0.0-py3-none-any.whl (231kB)\n",
            "\u001b[K     |████████████████████████████████| 235kB 44.3MB/s \n",
            "\u001b[?25hRequirement already satisfied: h5py in /usr/local/lib/python3.7/dist-packages (from torch_geometric) (2.10.0)\n",
            "Requirement already satisfied: googledrivedownloader in /usr/local/lib/python3.7/dist-packages (from torch_geometric) (0.4)\n",
            "Collecting ase\n",
            "\u001b[?25l  Downloading https://files.pythonhosted.org/packages/a5/36/de17e79f29e06d9a92746d0dd9ec4636487ab03f6af10e78586aae533f7a/ase-3.21.1-py3-none-any.whl (2.2MB)\n",
            "\u001b[K     |████████████████████████████████| 2.2MB 51.9MB/s \n",
            "\u001b[?25hRequirement already satisfied: jinja2 in /usr/local/lib/python3.7/dist-packages (from torch_geometric) (2.11.3)\n",
            "Requirement already satisfied: dataclasses in /usr/local/lib/python3.7/dist-packages (from torch->torch_geometric) (0.6)\n",
            "Requirement already satisfied: future in /usr/local/lib/python3.7/dist-packages (from torch->torch_geometric) (0.16.0)\n",
            "Requirement already satisfied: typing-extensions in /usr/local/lib/python3.7/dist-packages (from torch->torch_geometric) (3.7.4.3)\n",
            "Requirement already satisfied: decorator>=4.3.0 in /usr/local/lib/python3.7/dist-packages (from networkx->torch_geometric) (4.4.2)\n",
            "Requirement already satisfied: joblib>=0.11 in /usr/local/lib/python3.7/dist-packages (from scikit-learn->torch_geometric) (1.0.1)\n",
            "Requirement already satisfied: setuptools in /usr/local/lib/python3.7/dist-packages (from numba->torch_geometric) (53.0.0)\n",
            "Requirement already satisfied: llvmlite<0.35,>=0.34.0.dev0 in /usr/local/lib/python3.7/dist-packages (from numba->torch_geometric) (0.34.0)\n",
            "Requirement already satisfied: chardet<4,>=3.0.2 in /usr/local/lib/python3.7/dist-packages (from requests->torch_geometric) (3.0.4)\n",
            "Requirement already satisfied: urllib3!=1.25.0,!=1.25.1,<1.26,>=1.21.1 in /usr/local/lib/python3.7/dist-packages (from requests->torch_geometric) (1.24.3)\n",
            "Requirement already satisfied: idna<3,>=2.5 in /usr/local/lib/python3.7/dist-packages (from requests->torch_geometric) (2.10)\n",
            "Requirement already satisfied: certifi>=2017.4.17 in /usr/local/lib/python3.7/dist-packages (from requests->torch_geometric) (2020.12.5)\n",
            "Requirement already satisfied: pytz>=2017.2 in /usr/local/lib/python3.7/dist-packages (from pandas->torch_geometric) (2018.9)\n",
            "Requirement already satisfied: python-dateutil>=2.7.3 in /usr/local/lib/python3.7/dist-packages (from pandas->torch_geometric) (2.8.1)\n",
            "Requirement already satisfied: pyparsing in /usr/local/lib/python3.7/dist-packages (from rdflib->torch_geometric) (2.4.7)\n",
            "Collecting isodate\n",
            "\u001b[?25l  Downloading https://files.pythonhosted.org/packages/9b/9f/b36f7774ff5ea8e428fdcfc4bb332c39ee5b9362ddd3d40d9516a55221b2/isodate-0.6.0-py2.py3-none-any.whl (45kB)\n",
            "\u001b[K     |████████████████████████████████| 51kB 9.5MB/s \n",
            "\u001b[?25hRequirement already satisfied: six in /usr/local/lib/python3.7/dist-packages (from rdflib->torch_geometric) (1.15.0)\n",
            "Requirement already satisfied: matplotlib>=2.0.0 in /usr/local/lib/python3.7/dist-packages (from ase->torch_geometric) (3.2.2)\n",
            "Requirement already satisfied: MarkupSafe>=0.23 in /usr/local/lib/python3.7/dist-packages (from jinja2->torch_geometric) (1.1.1)\n",
            "Requirement already satisfied: cycler>=0.10 in /usr/local/lib/python3.7/dist-packages (from matplotlib>=2.0.0->ase->torch_geometric) (0.10.0)\n",
            "Requirement already satisfied: kiwisolver>=1.0.1 in /usr/local/lib/python3.7/dist-packages (from matplotlib>=2.0.0->ase->torch_geometric) (1.3.1)\n",
            "Building wheels for collected packages: torch-geometric\n",
            "  Building wheel for torch-geometric (setup.py) ... \u001b[?25l\u001b[?25hdone\n",
            "  Created wheel for torch-geometric: filename=torch_geometric-1.6.3-cp37-none-any.whl size=322719 sha256=4ec377487124b447ff0fdb667cb185f6d8a2ff910f3eccd5d283381a826dc687\n",
            "  Stored in directory: /root/.cache/pip/wheels/6d/47/1e/0af8ce3e21783c3e584c22502011a3367c091694eebc50a971\n",
            "Successfully built torch-geometric\n",
            "Installing collected packages: isodate, rdflib, ase, torch-geometric\n",
            "Successfully installed ase-3.21.1 isodate-0.6.0 rdflib-5.0.0 torch-geometric-1.6.3\n"
          ],
          "name": "stdout"
        }
      ]
    },
    {
      "cell_type": "code",
      "metadata": {
        "colab": {
          "base_uri": "https://localhost:8080/"
        },
        "id": "euKC3DRAh9pk",
        "outputId": "bef7f765-4a05-40e9-bc77-6505a5b6f15a"
      },
      "source": [
        "!apt-get install python3-dev graphviz libgraphviz-dev pkg-config\r\n",
        "!pip install graphviz\r\n",
        "!pip install pygraphviz"
      ],
      "execution_count": 3,
      "outputs": [
        {
          "output_type": "stream",
          "text": [
            "Reading package lists... Done\n",
            "Building dependency tree       \n",
            "Reading state information... Done\n",
            "pkg-config is already the newest version (0.29.1-0ubuntu2).\n",
            "graphviz is already the newest version (2.40.1-2).\n",
            "python3-dev is already the newest version (3.6.7-1~18.04).\n",
            "python3-dev set to manually installed.\n",
            "The following additional packages will be installed:\n",
            "  libgail-common libgail18 libgtk2.0-0 libgtk2.0-bin libgtk2.0-common\n",
            "  libgvc6-plugins-gtk libxdot4\n",
            "Suggested packages:\n",
            "  gvfs\n",
            "The following NEW packages will be installed:\n",
            "  libgail-common libgail18 libgraphviz-dev libgtk2.0-0 libgtk2.0-bin\n",
            "  libgtk2.0-common libgvc6-plugins-gtk libxdot4\n",
            "0 upgraded, 8 newly installed, 0 to remove and 11 not upgraded.\n",
            "Need to get 2,120 kB of archives.\n",
            "After this operation, 7,128 kB of additional disk space will be used.\n",
            "Get:1 http://archive.ubuntu.com/ubuntu bionic/main amd64 libgtk2.0-common all 2.24.32-1ubuntu1 [125 kB]\n",
            "Get:2 http://archive.ubuntu.com/ubuntu bionic/main amd64 libgtk2.0-0 amd64 2.24.32-1ubuntu1 [1,769 kB]\n",
            "Get:3 http://archive.ubuntu.com/ubuntu bionic/main amd64 libgail18 amd64 2.24.32-1ubuntu1 [14.2 kB]\n",
            "Get:4 http://archive.ubuntu.com/ubuntu bionic/main amd64 libgail-common amd64 2.24.32-1ubuntu1 [112 kB]\n",
            "Get:5 http://archive.ubuntu.com/ubuntu bionic/universe amd64 libxdot4 amd64 2.40.1-2 [15.7 kB]\n",
            "Get:6 http://archive.ubuntu.com/ubuntu bionic/universe amd64 libgvc6-plugins-gtk amd64 2.40.1-2 [18.2 kB]\n",
            "Get:7 http://archive.ubuntu.com/ubuntu bionic/universe amd64 libgraphviz-dev amd64 2.40.1-2 [57.3 kB]\n",
            "Get:8 http://archive.ubuntu.com/ubuntu bionic/main amd64 libgtk2.0-bin amd64 2.24.32-1ubuntu1 [7,536 B]\n",
            "Fetched 2,120 kB in 1s (2,385 kB/s)\n",
            "Selecting previously unselected package libgtk2.0-common.\n",
            "(Reading database ... 149414 files and directories currently installed.)\n",
            "Preparing to unpack .../0-libgtk2.0-common_2.24.32-1ubuntu1_all.deb ...\n",
            "Unpacking libgtk2.0-common (2.24.32-1ubuntu1) ...\n",
            "Selecting previously unselected package libgtk2.0-0:amd64.\n",
            "Preparing to unpack .../1-libgtk2.0-0_2.24.32-1ubuntu1_amd64.deb ...\n",
            "Unpacking libgtk2.0-0:amd64 (2.24.32-1ubuntu1) ...\n",
            "Selecting previously unselected package libgail18:amd64.\n",
            "Preparing to unpack .../2-libgail18_2.24.32-1ubuntu1_amd64.deb ...\n",
            "Unpacking libgail18:amd64 (2.24.32-1ubuntu1) ...\n",
            "Selecting previously unselected package libgail-common:amd64.\n",
            "Preparing to unpack .../3-libgail-common_2.24.32-1ubuntu1_amd64.deb ...\n",
            "Unpacking libgail-common:amd64 (2.24.32-1ubuntu1) ...\n",
            "Selecting previously unselected package libxdot4.\n",
            "Preparing to unpack .../4-libxdot4_2.40.1-2_amd64.deb ...\n",
            "Unpacking libxdot4 (2.40.1-2) ...\n",
            "Selecting previously unselected package libgvc6-plugins-gtk.\n",
            "Preparing to unpack .../5-libgvc6-plugins-gtk_2.40.1-2_amd64.deb ...\n",
            "Unpacking libgvc6-plugins-gtk (2.40.1-2) ...\n",
            "Selecting previously unselected package libgraphviz-dev.\n",
            "Preparing to unpack .../6-libgraphviz-dev_2.40.1-2_amd64.deb ...\n",
            "Unpacking libgraphviz-dev (2.40.1-2) ...\n",
            "Selecting previously unselected package libgtk2.0-bin.\n",
            "Preparing to unpack .../7-libgtk2.0-bin_2.24.32-1ubuntu1_amd64.deb ...\n",
            "Unpacking libgtk2.0-bin (2.24.32-1ubuntu1) ...\n",
            "Setting up libgtk2.0-common (2.24.32-1ubuntu1) ...\n",
            "Setting up libxdot4 (2.40.1-2) ...\n",
            "Setting up libgtk2.0-0:amd64 (2.24.32-1ubuntu1) ...\n",
            "Setting up libgail18:amd64 (2.24.32-1ubuntu1) ...\n",
            "Setting up libgail-common:amd64 (2.24.32-1ubuntu1) ...\n",
            "Setting up libgvc6-plugins-gtk (2.40.1-2) ...\n",
            "Setting up libgraphviz-dev (2.40.1-2) ...\n",
            "Setting up libgtk2.0-bin (2.24.32-1ubuntu1) ...\n",
            "Processing triggers for man-db (2.8.3-2ubuntu0.1) ...\n",
            "Processing triggers for libc-bin (2.27-3ubuntu1.4) ...\n",
            "/sbin/ldconfig.real: /usr/local/lib/python3.7/dist-packages/ideep4py/lib/libmkldnn.so.0 is not a symbolic link\n",
            "\n",
            "Requirement already satisfied: graphviz in /usr/local/lib/python3.7/dist-packages (0.10.1)\n",
            "Collecting pygraphviz\n",
            "\u001b[?25l  Downloading https://files.pythonhosted.org/packages/3a/d6/2c56f09ee83dbebb62c40487e4c972135661b9984fec9b30b77fb497090c/pygraphviz-1.7.zip (118kB)\n",
            "\u001b[K     |████████████████████████████████| 122kB 21.4MB/s \n",
            "\u001b[?25hBuilding wheels for collected packages: pygraphviz\n",
            "  Building wheel for pygraphviz (setup.py) ... \u001b[?25l\u001b[?25hdone\n",
            "  Created wheel for pygraphviz: filename=pygraphviz-1.7-cp37-cp37m-linux_x86_64.whl size=166119 sha256=050ff81d8c17c10400c572ff9141a1c31de075159379ab01ba8b14548aeb09b0\n",
            "  Stored in directory: /root/.cache/pip/wheels/32/59/00/14934a4292c4359eeabcdbf90f33d309b55d0f1be8a1262523\n",
            "Successfully built pygraphviz\n",
            "Installing collected packages: pygraphviz\n",
            "Successfully installed pygraphviz-1.7\n"
          ],
          "name": "stdout"
        }
      ]
    },
    {
      "cell_type": "code",
      "metadata": {
        "colab": {
          "base_uri": "https://localhost:8080/"
        },
        "id": "Pi5Fqh6IyO7p",
        "outputId": "5491dc2e-b10e-4c9d-fb04-0494f31df463"
      },
      "source": [
        "!pip install visdom\r\n",
        "!pip install GPUtil"
      ],
      "execution_count": 4,
      "outputs": [
        {
          "output_type": "stream",
          "text": [
            "Collecting visdom\n",
            "\u001b[?25l  Downloading https://files.pythonhosted.org/packages/c9/75/e078f5a2e1df7e0d3044749089fc2823e62d029cc027ed8ae5d71fafcbdc/visdom-0.1.8.9.tar.gz (676kB)\n",
            "\r\u001b[K     |▌                               | 10kB 23.7MB/s eta 0:00:01\r\u001b[K     |█                               | 20kB 31.3MB/s eta 0:00:01\r\u001b[K     |█▌                              | 30kB 22.5MB/s eta 0:00:01\r\u001b[K     |██                              | 40kB 26.2MB/s eta 0:00:01\r\u001b[K     |██▍                             | 51kB 24.4MB/s eta 0:00:01\r\u001b[K     |███                             | 61kB 17.4MB/s eta 0:00:01\r\u001b[K     |███▍                            | 71kB 17.1MB/s eta 0:00:01\r\u001b[K     |███▉                            | 81kB 18.4MB/s eta 0:00:01\r\u001b[K     |████▍                           | 92kB 17.5MB/s eta 0:00:01\r\u001b[K     |████▉                           | 102kB 16.9MB/s eta 0:00:01\r\u001b[K     |█████▎                          | 112kB 16.9MB/s eta 0:00:01\r\u001b[K     |█████▉                          | 122kB 16.9MB/s eta 0:00:01\r\u001b[K     |██████▎                         | 133kB 16.9MB/s eta 0:00:01\r\u001b[K     |██████▉                         | 143kB 16.9MB/s eta 0:00:01\r\u001b[K     |███████▎                        | 153kB 16.9MB/s eta 0:00:01\r\u001b[K     |███████▊                        | 163kB 16.9MB/s eta 0:00:01\r\u001b[K     |████████▎                       | 174kB 16.9MB/s eta 0:00:01\r\u001b[K     |████████▊                       | 184kB 16.9MB/s eta 0:00:01\r\u001b[K     |█████████▏                      | 194kB 16.9MB/s eta 0:00:01\r\u001b[K     |█████████▊                      | 204kB 16.9MB/s eta 0:00:01\r\u001b[K     |██████████▏                     | 215kB 16.9MB/s eta 0:00:01\r\u001b[K     |██████████▋                     | 225kB 16.9MB/s eta 0:00:01\r\u001b[K     |███████████▏                    | 235kB 16.9MB/s eta 0:00:01\r\u001b[K     |███████████▋                    | 245kB 16.9MB/s eta 0:00:01\r\u001b[K     |████████████                    | 256kB 16.9MB/s eta 0:00:01\r\u001b[K     |████████████▋                   | 266kB 16.9MB/s eta 0:00:01\r\u001b[K     |█████████████                   | 276kB 16.9MB/s eta 0:00:01\r\u001b[K     |█████████████▋                  | 286kB 16.9MB/s eta 0:00:01\r\u001b[K     |██████████████                  | 296kB 16.9MB/s eta 0:00:01\r\u001b[K     |██████████████▌                 | 307kB 16.9MB/s eta 0:00:01\r\u001b[K     |███████████████                 | 317kB 16.9MB/s eta 0:00:01\r\u001b[K     |███████████████▌                | 327kB 16.9MB/s eta 0:00:01\r\u001b[K     |████████████████                | 337kB 16.9MB/s eta 0:00:01\r\u001b[K     |████████████████▌               | 348kB 16.9MB/s eta 0:00:01\r\u001b[K     |█████████████████               | 358kB 16.9MB/s eta 0:00:01\r\u001b[K     |█████████████████▍              | 368kB 16.9MB/s eta 0:00:01\r\u001b[K     |██████████████████              | 378kB 16.9MB/s eta 0:00:01\r\u001b[K     |██████████████████▍             | 389kB 16.9MB/s eta 0:00:01\r\u001b[K     |███████████████████             | 399kB 16.9MB/s eta 0:00:01\r\u001b[K     |███████████████████▍            | 409kB 16.9MB/s eta 0:00:01\r\u001b[K     |███████████████████▉            | 419kB 16.9MB/s eta 0:00:01\r\u001b[K     |████████████████████▍           | 430kB 16.9MB/s eta 0:00:01\r\u001b[K     |████████████████████▉           | 440kB 16.9MB/s eta 0:00:01\r\u001b[K     |█████████████████████▎          | 450kB 16.9MB/s eta 0:00:01\r\u001b[K     |█████████████████████▉          | 460kB 16.9MB/s eta 0:00:01\r\u001b[K     |██████████████████████▎         | 471kB 16.9MB/s eta 0:00:01\r\u001b[K     |██████████████████████▊         | 481kB 16.9MB/s eta 0:00:01\r\u001b[K     |███████████████████████▎        | 491kB 16.9MB/s eta 0:00:01\r\u001b[K     |███████████████████████▊        | 501kB 16.9MB/s eta 0:00:01\r\u001b[K     |████████████████████████▏       | 512kB 16.9MB/s eta 0:00:01\r\u001b[K     |████████████████████████▊       | 522kB 16.9MB/s eta 0:00:01\r\u001b[K     |█████████████████████████▏      | 532kB 16.9MB/s eta 0:00:01\r\u001b[K     |█████████████████████████▊      | 542kB 16.9MB/s eta 0:00:01\r\u001b[K     |██████████████████████████▏     | 552kB 16.9MB/s eta 0:00:01\r\u001b[K     |██████████████████████████▋     | 563kB 16.9MB/s eta 0:00:01\r\u001b[K     |███████████████████████████▏    | 573kB 16.9MB/s eta 0:00:01\r\u001b[K     |███████████████████████████▋    | 583kB 16.9MB/s eta 0:00:01\r\u001b[K     |████████████████████████████    | 593kB 16.9MB/s eta 0:00:01\r\u001b[K     |████████████████████████████▋   | 604kB 16.9MB/s eta 0:00:01\r\u001b[K     |█████████████████████████████   | 614kB 16.9MB/s eta 0:00:01\r\u001b[K     |█████████████████████████████▌  | 624kB 16.9MB/s eta 0:00:01\r\u001b[K     |██████████████████████████████  | 634kB 16.9MB/s eta 0:00:01\r\u001b[K     |██████████████████████████████▌ | 645kB 16.9MB/s eta 0:00:01\r\u001b[K     |███████████████████████████████ | 655kB 16.9MB/s eta 0:00:01\r\u001b[K     |███████████████████████████████▌| 665kB 16.9MB/s eta 0:00:01\r\u001b[K     |████████████████████████████████| 675kB 16.9MB/s eta 0:00:01\r\u001b[K     |████████████████████████████████| 686kB 16.9MB/s \n",
            "\u001b[?25hRequirement already satisfied: numpy>=1.8 in /usr/local/lib/python3.7/dist-packages (from visdom) (1.19.5)\n",
            "Requirement already satisfied: scipy in /usr/local/lib/python3.7/dist-packages (from visdom) (1.4.1)\n",
            "Requirement already satisfied: requests in /usr/local/lib/python3.7/dist-packages (from visdom) (2.23.0)\n",
            "Requirement already satisfied: tornado in /usr/local/lib/python3.7/dist-packages (from visdom) (5.1.1)\n",
            "Requirement already satisfied: pyzmq in /usr/local/lib/python3.7/dist-packages (from visdom) (22.0.3)\n",
            "Requirement already satisfied: six in /usr/local/lib/python3.7/dist-packages (from visdom) (1.15.0)\n",
            "Collecting jsonpatch\n",
            "  Downloading https://files.pythonhosted.org/packages/40/d5/6640ac6d1bdd20f44bb6b3c6e6f2f1c525bf0b7595f99c4f38917f995d6b/jsonpatch-1.28-py2.py3-none-any.whl\n",
            "Collecting torchfile\n",
            "  Downloading https://files.pythonhosted.org/packages/91/af/5b305f86f2d218091af657ddb53f984ecbd9518ca9fe8ef4103a007252c9/torchfile-0.1.0.tar.gz\n",
            "Collecting websocket-client\n",
            "\u001b[?25l  Downloading https://files.pythonhosted.org/packages/4c/5f/f61b420143ed1c8dc69f9eaec5ff1ac36109d52c80de49d66e0c36c3dfdf/websocket_client-0.57.0-py2.py3-none-any.whl (200kB)\n",
            "\u001b[K     |████████████████████████████████| 204kB 47.5MB/s \n",
            "\u001b[?25hRequirement already satisfied: pillow in /usr/local/lib/python3.7/dist-packages (from visdom) (7.0.0)\n",
            "Requirement already satisfied: urllib3!=1.25.0,!=1.25.1,<1.26,>=1.21.1 in /usr/local/lib/python3.7/dist-packages (from requests->visdom) (1.24.3)\n",
            "Requirement already satisfied: chardet<4,>=3.0.2 in /usr/local/lib/python3.7/dist-packages (from requests->visdom) (3.0.4)\n",
            "Requirement already satisfied: certifi>=2017.4.17 in /usr/local/lib/python3.7/dist-packages (from requests->visdom) (2020.12.5)\n",
            "Requirement already satisfied: idna<3,>=2.5 in /usr/local/lib/python3.7/dist-packages (from requests->visdom) (2.10)\n",
            "Collecting jsonpointer>=1.9\n",
            "  Downloading https://files.pythonhosted.org/packages/18/b0/a80d29577c08eea401659254dfaed87f1af45272899e1812d7e01b679bc5/jsonpointer-2.0-py2.py3-none-any.whl\n",
            "Building wheels for collected packages: visdom, torchfile\n",
            "  Building wheel for visdom (setup.py) ... \u001b[?25l\u001b[?25hdone\n",
            "  Created wheel for visdom: filename=visdom-0.1.8.9-cp37-none-any.whl size=655251 sha256=9582c477107d33fcf7e57db09f49620b4e5367348108bc3659c42eae5785fec8\n",
            "  Stored in directory: /root/.cache/pip/wheels/70/19/a7/6d589ed967f4dfefd33bc166d081257bd4ed0cb618dccfd62a\n",
            "  Building wheel for torchfile (setup.py) ... \u001b[?25l\u001b[?25hdone\n",
            "  Created wheel for torchfile: filename=torchfile-0.1.0-cp37-none-any.whl size=5713 sha256=74756934965356ead5f34eca45a15e94d47ba64816637e71c476b6208224325a\n",
            "  Stored in directory: /root/.cache/pip/wheels/b1/c3/d6/9a1cc8f3a99a0fc1124cae20153f36af59a6e683daca0a0814\n",
            "Successfully built visdom torchfile\n",
            "Installing collected packages: jsonpointer, jsonpatch, torchfile, websocket-client, visdom\n",
            "Successfully installed jsonpatch-1.28 jsonpointer-2.0 torchfile-0.1.0 visdom-0.1.8.9 websocket-client-0.57.0\n",
            "Collecting GPUtil\n",
            "  Downloading https://files.pythonhosted.org/packages/ed/0e/5c61eedde9f6c87713e89d794f01e378cfd9565847d4576fa627d758c554/GPUtil-1.4.0.tar.gz\n",
            "Building wheels for collected packages: GPUtil\n",
            "  Building wheel for GPUtil (setup.py) ... \u001b[?25l\u001b[?25hdone\n",
            "  Created wheel for GPUtil: filename=GPUtil-1.4.0-cp37-none-any.whl size=7411 sha256=17ef3b9f14b1d7d840d986eca3961755b2aa2913413a7ca1865f90bc2dc20c42\n",
            "  Stored in directory: /root/.cache/pip/wheels/3d/77/07/80562de4bb0786e5ea186911a2c831fdd0018bda69beab71fd\n",
            "Successfully built GPUtil\n",
            "Installing collected packages: GPUtil\n",
            "Successfully installed GPUtil-1.4.0\n"
          ],
          "name": "stdout"
        }
      ]
    },
    {
      "cell_type": "code",
      "metadata": {
        "colab": {
          "base_uri": "https://localhost:8080/"
        },
        "id": "lcu4U6yTlQpu",
        "outputId": "42ac913b-2131-4592-e9f1-e66645b4353e"
      },
      "source": [
        "from google.colab import drive\r\n",
        "drive.mount('/content/drive/')\r\n",
        "\r\n",
        "import sys\r\n",
        "sys.path.append('/content/drive/My Drive/ISLR Course - Fall 2020/Project')\r\n"
      ],
      "execution_count": 5,
      "outputs": [
        {
          "output_type": "stream",
          "text": [
            "Mounted at /content/drive/\n"
          ],
          "name": "stdout"
        }
      ]
    },
    {
      "cell_type": "markdown",
      "metadata": {
        "id": "VZM6-St1bSGH"
      },
      "source": [
        "# Import"
      ]
    },
    {
      "cell_type": "code",
      "metadata": {
        "id": "mHCQ9nhQVnat"
      },
      "source": [
        "import os\r\n",
        "import pickle\r\n",
        "import torch\r\n",
        "import torch.nn.functional as F\r\n",
        "from torch.nn import Linear\r\n",
        "#from kernel.datasets import get_dataset\r\n",
        "import time\r\n",
        "from torch import tensor\r\n",
        "from torch.optim import Adam\r\n",
        "from torch.optim import SGD\r\n",
        "from torch_geometric.data import DataLoader, DenseDataLoader as DenseLoader\r\n",
        "from math import ceil\r\n",
        "from torch.nn import Linear\r\n",
        "from torch.distributions import categorical\r\n",
        "from torch.distributions import Bernoulli\r\n",
        "import torch.nn\r\n",
        "%matplotlib inline\r\n",
        "from matplotlib import pyplot as plt\r\n",
        "import pygraphviz as pgv\r\n",
        "from torch_geometric.utils import convert as cnv\r\n",
        "from torch_geometric.utils import sparse as sp\r\n",
        "from torch_geometric.data import Data\r\n",
        "import pygraphviz as pgv\r\n",
        "from networkx.drawing.nx_agraph import graphviz_layout\r\n",
        "import networkx as nx\r\n",
        "from torch.utils.data.sampler import RandomSampler\r\n",
        "from torch.nn.functional import gumbel_softmax\r\n",
        "from torch.distributions import relaxed_categorical\r\n",
        "from torch_geometric.nn.inits import uniform\r\n",
        "from torch_geometric.nn.inits import glorot, zeros\r\n",
        "from torch.nn import Parameter\r\n",
        "from torch.nn import Sequential as Seq, Linear, ReLU\r\n",
        "from torch_geometric.nn import MessagePassing\r\n",
        "from torch_geometric.utils import degree\r\n",
        "from torch_geometric.nn import GINConv, GATConv\r\n",
        "from torch.nn import Parameter\r\n",
        "from torch.nn import Sequential as Seq, Linear, ReLU, LeakyReLU\r\n",
        "from torch_geometric.nn import MessagePassing\r\n",
        "from torch.nn import Linear, Sequential, ReLU, BatchNorm1d as BN\r\n",
        "#from torch_geometric.utils import scatter_\r\n",
        "from torch_geometric.data import Batch \r\n",
        "from torch_scatter import scatter_min, scatter_max, scatter_add, scatter_mean\r\n",
        "from torch import autograd\r\n",
        "from torch_geometric.utils import softmax, add_self_loops, remove_self_loops, segregate_self_loops, remove_isolated_nodes, contains_isolated_nodes, add_remaining_self_loops\r\n",
        "from models import clique_MPNN, cut_MPNN\r\n",
        "from modules_and_utils import derandomize_cut, GATAConv,get_diracs, derandomize_clique_final, derandomize_clique_final_speed, solve_gurobi_maxclique\r\n",
        "import scipy\r\n",
        "import scipy.io\r\n",
        "import GPUtil\r\n",
        "from networkx.algorithms.approximation import max_clique\r\n",
        "from torch_geometric.data import DataListLoader\r\n",
        "from random import shuffle\r\n",
        "from networkx.algorithms.approximation import max_clique\r\n",
        "from networkx.algorithms import graph_clique_number\r\n",
        "from networkx.algorithms import find_cliques"
      ],
      "execution_count": 6,
      "outputs": []
    },
    {
      "cell_type": "markdown",
      "metadata": {
        "id": "08HOKOpyYFFQ"
      },
      "source": [
        "# Read Dataset"
      ]
    },
    {
      "cell_type": "code",
      "metadata": {
        "id": "tsrzcyBkYHz8",
        "colab": {
          "base_uri": "https://localhost:8080/",
          "height": 370
        },
        "outputId": "ed937754-7eec-40ef-89ce-47b3d2b87e1a"
      },
      "source": [
        "import numpy as np\r\n",
        "# datasets = [\"TWITTER_SNAP\", \"COLLAB\", \"IMDB-BINARY\"]\r\n",
        "# dataset_name = datasets[2]\r\n",
        "# path_to_dataset =\"%PATH\"\r\n",
        "# if dataset_name == \"TWITTER_SNAP\":\r\n",
        "#     stored_dataset = open(path_to_dataset, 'rb')        \r\n",
        "# elif dataset_name == \"COLLAB\":\r\n",
        "#     stored_dataset = open(path_to_dataset, 'rb')\r\n",
        "# elif dataset_name == \"IMDB-BINARY\":\r\n",
        "#     stored_dataset = open(path_to_dataset, 'rb')\r\n",
        "\r\n",
        "address = '/content/drive/My Drive/ISLR Course - Fall 2020/Project/IMDB_BINARY.p'\r\n",
        "stored_dataset = open(address, 'rb')      \r\n",
        "\r\n",
        "dataset = pickle.load(stored_dataset)\r\n",
        "dataset_scale = 1\r\n",
        "# total_samples = int(np.floor(len(dataset)*dataset_scale))\r\n",
        "total_samples = int(np.floor(dataset.len()*dataset_scale))\r\n",
        "\r\n",
        "dataset = dataset[:total_samples]\r\n",
        "\r\n",
        "# num_trainpoints = int(np.floor(0.6*len(dataset)))\r\n",
        "# num_valpoints = int(np.floor(num_trainpoints/3))\r\n",
        "# num_testpoints = len(dataset) - (num_trainpoints + num_valpoints)\r\n",
        "# traindata= dataset[0:num_trainpoints]\r\n",
        "# valdata = dataset[num_trainpoints:num_trainpoints + num_valpoints]\r\n",
        "# testdata = dataset[num_trainpoints + num_valpoints:]\r\n",
        "# batch_size = 32\r\n",
        "# train_loader = DataLoader(traindata, batch_size, shuffle=True)\r\n",
        "# test_loader = DataLoader(testdata, batch_size, shuffle=False)\r\n",
        "# val_loader =  DataLoader(valdata, batch_size, shuffle=False)\r\n",
        "\r\n",
        "# #set up random seeds \r\n",
        "# torch.manual_seed(1)\r\n",
        "# np.random.seed(2)   \r\n",
        "# torch.backends.cudnn.deterministic = True\r\n",
        "# torch.backends.cudnn.benchmark = False"
      ],
      "execution_count": 81,
      "outputs": [
        {
          "output_type": "error",
          "ename": "AttributeError",
          "evalue": "ignored",
          "traceback": [
            "\u001b[0;31m---------------------------------------------------------------------------\u001b[0m",
            "\u001b[0;31mAttributeError\u001b[0m                            Traceback (most recent call last)",
            "\u001b[0;32m<ipython-input-81-6c9a531a9603>\u001b[0m in \u001b[0;36m<module>\u001b[0;34m()\u001b[0m\n\u001b[1;32m     18\u001b[0m \u001b[0mtotal_samples\u001b[0m \u001b[0;34m=\u001b[0m \u001b[0mint\u001b[0m\u001b[0;34m(\u001b[0m\u001b[0mnp\u001b[0m\u001b[0;34m.\u001b[0m\u001b[0mfloor\u001b[0m\u001b[0;34m(\u001b[0m\u001b[0mdataset\u001b[0m\u001b[0;34m.\u001b[0m\u001b[0mlen\u001b[0m\u001b[0;34m(\u001b[0m\u001b[0;34m)\u001b[0m\u001b[0;34m*\u001b[0m\u001b[0mdataset_scale\u001b[0m\u001b[0;34m)\u001b[0m\u001b[0;34m)\u001b[0m\u001b[0;34m\u001b[0m\u001b[0;34m\u001b[0m\u001b[0m\n\u001b[1;32m     19\u001b[0m \u001b[0;34m\u001b[0m\u001b[0m\n\u001b[0;32m---> 20\u001b[0;31m \u001b[0mdataset\u001b[0m \u001b[0;34m=\u001b[0m \u001b[0mdataset\u001b[0m\u001b[0;34m[\u001b[0m\u001b[0;34m:\u001b[0m\u001b[0mtotal_samples\u001b[0m\u001b[0;34m]\u001b[0m\u001b[0;34m\u001b[0m\u001b[0;34m\u001b[0m\u001b[0m\n\u001b[0m\u001b[1;32m     21\u001b[0m \u001b[0;34m\u001b[0m\u001b[0m\n\u001b[1;32m     22\u001b[0m \u001b[0;31m# num_trainpoints = int(np.floor(0.6*len(dataset)))\u001b[0m\u001b[0;34m\u001b[0m\u001b[0;34m\u001b[0m\u001b[0;34m\u001b[0m\u001b[0m\n",
            "\u001b[0;32m/usr/local/lib/python3.6/dist-packages/torch_geometric/data/dataset.py\u001b[0m in \u001b[0;36m__getitem__\u001b[0;34m(self, idx)\u001b[0m\n\u001b[1;32m    189\u001b[0m             \u001b[0;32mreturn\u001b[0m \u001b[0mdata\u001b[0m\u001b[0;34m\u001b[0m\u001b[0;34m\u001b[0m\u001b[0m\n\u001b[1;32m    190\u001b[0m         \u001b[0;32melse\u001b[0m\u001b[0;34m:\u001b[0m\u001b[0;34m\u001b[0m\u001b[0;34m\u001b[0m\u001b[0m\n\u001b[0;32m--> 191\u001b[0;31m             \u001b[0;32mreturn\u001b[0m \u001b[0mself\u001b[0m\u001b[0;34m.\u001b[0m\u001b[0mindex_select\u001b[0m\u001b[0;34m(\u001b[0m\u001b[0midx\u001b[0m\u001b[0;34m)\u001b[0m\u001b[0;34m\u001b[0m\u001b[0;34m\u001b[0m\u001b[0m\n\u001b[0m\u001b[1;32m    192\u001b[0m \u001b[0;34m\u001b[0m\u001b[0m\n\u001b[1;32m    193\u001b[0m     \u001b[0;32mdef\u001b[0m \u001b[0mindex_select\u001b[0m\u001b[0;34m(\u001b[0m\u001b[0mself\u001b[0m\u001b[0;34m,\u001b[0m \u001b[0midx\u001b[0m\u001b[0;34m)\u001b[0m\u001b[0;34m:\u001b[0m\u001b[0;34m\u001b[0m\u001b[0;34m\u001b[0m\u001b[0m\n",
            "\u001b[0;32m/usr/local/lib/python3.6/dist-packages/torch_geometric/data/dataset.py\u001b[0m in \u001b[0;36mindex_select\u001b[0;34m(self, idx)\u001b[0m\n\u001b[1;32m    192\u001b[0m \u001b[0;34m\u001b[0m\u001b[0m\n\u001b[1;32m    193\u001b[0m     \u001b[0;32mdef\u001b[0m \u001b[0mindex_select\u001b[0m\u001b[0;34m(\u001b[0m\u001b[0mself\u001b[0m\u001b[0;34m,\u001b[0m \u001b[0midx\u001b[0m\u001b[0;34m)\u001b[0m\u001b[0;34m:\u001b[0m\u001b[0;34m\u001b[0m\u001b[0;34m\u001b[0m\u001b[0m\n\u001b[0;32m--> 194\u001b[0;31m         \u001b[0mindices\u001b[0m \u001b[0;34m=\u001b[0m \u001b[0mself\u001b[0m\u001b[0;34m.\u001b[0m\u001b[0mindices\u001b[0m\u001b[0;34m(\u001b[0m\u001b[0;34m)\u001b[0m\u001b[0;34m\u001b[0m\u001b[0;34m\u001b[0m\u001b[0m\n\u001b[0m\u001b[1;32m    195\u001b[0m \u001b[0;34m\u001b[0m\u001b[0m\n\u001b[1;32m    196\u001b[0m         \u001b[0;32mif\u001b[0m \u001b[0misinstance\u001b[0m\u001b[0;34m(\u001b[0m\u001b[0midx\u001b[0m\u001b[0;34m,\u001b[0m \u001b[0mslice\u001b[0m\u001b[0;34m)\u001b[0m\u001b[0;34m:\u001b[0m\u001b[0;34m\u001b[0m\u001b[0;34m\u001b[0m\u001b[0m\n",
            "\u001b[0;32m/usr/local/lib/python3.6/dist-packages/torch_geometric/data/dataset.py\u001b[0m in \u001b[0;36mindices\u001b[0;34m(self)\u001b[0m\n\u001b[1;32m     93\u001b[0m \u001b[0;34m\u001b[0m\u001b[0m\n\u001b[1;32m     94\u001b[0m     \u001b[0;32mdef\u001b[0m \u001b[0mindices\u001b[0m\u001b[0;34m(\u001b[0m\u001b[0mself\u001b[0m\u001b[0;34m)\u001b[0m\u001b[0;34m:\u001b[0m\u001b[0;34m\u001b[0m\u001b[0;34m\u001b[0m\u001b[0m\n\u001b[0;32m---> 95\u001b[0;31m         \u001b[0;32mif\u001b[0m \u001b[0mself\u001b[0m\u001b[0;34m.\u001b[0m\u001b[0m__indices__\u001b[0m \u001b[0;32mis\u001b[0m \u001b[0;32mnot\u001b[0m \u001b[0;32mNone\u001b[0m\u001b[0;34m:\u001b[0m\u001b[0;34m\u001b[0m\u001b[0;34m\u001b[0m\u001b[0m\n\u001b[0m\u001b[1;32m     96\u001b[0m             \u001b[0;32mreturn\u001b[0m \u001b[0mself\u001b[0m\u001b[0;34m.\u001b[0m\u001b[0m__indices__\u001b[0m\u001b[0;34m\u001b[0m\u001b[0;34m\u001b[0m\u001b[0m\n\u001b[1;32m     97\u001b[0m         \u001b[0;32melse\u001b[0m\u001b[0;34m:\u001b[0m\u001b[0;34m\u001b[0m\u001b[0;34m\u001b[0m\u001b[0m\n",
            "\u001b[0;31mAttributeError\u001b[0m: 'TUDataset' object has no attribute '__indices__'"
          ]
        }
      ]
    },
    {
      "cell_type": "code",
      "metadata": {
        "id": "IhN0ZYLyKUtI"
      },
      "source": [
        "#type(dataset)\r\n",
        "\r\n",
        "print(color.get(999))\r\n",
        "type(color.get(999))\r\n"
      ],
      "execution_count": null,
      "outputs": []
    },
    {
      "cell_type": "code",
      "metadata": {
        "id": "nOIQIJvqKA48"
      },
      "source": [
        "print(color.data)\r\n",
        "type(color.data)"
      ],
      "execution_count": null,
      "outputs": []
    },
    {
      "cell_type": "code",
      "metadata": {
        "id": "qq9Gv_2YLCMs"
      },
      "source": [
        "color.slices"
      ],
      "execution_count": null,
      "outputs": []
    },
    {
      "cell_type": "markdown",
      "metadata": {
        "id": "ltRDhq_V2Pqs"
      },
      "source": [
        "## Test other dataset"
      ]
    },
    {
      "cell_type": "code",
      "metadata": {
        "colab": {
          "base_uri": "https://localhost:8080/"
        },
        "id": "to5D-k0M1-Zw",
        "outputId": "b0d40955-6ab7-4876-b420-db331c01934c"
      },
      "source": [
        "!pip install spektral"
      ],
      "execution_count": 7,
      "outputs": [
        {
          "output_type": "stream",
          "text": [
            "Collecting spektral\n",
            "\u001b[?25l  Downloading https://files.pythonhosted.org/packages/dd/74/9834dc2270f19316f7a394e32525bab93a4e244760a320d5f16c82111315/spektral-1.0.4-py3-none-any.whl (116kB)\n",
            "\r\u001b[K     |██▉                             | 10kB 30.2MB/s eta 0:00:01\r\u001b[K     |█████▋                          | 20kB 33.4MB/s eta 0:00:01\r\u001b[K     |████████▌                       | 30kB 27.3MB/s eta 0:00:01\r\u001b[K     |███████████▎                    | 40kB 31.1MB/s eta 0:00:01\r\u001b[K     |██████████████                  | 51kB 31.3MB/s eta 0:00:01\r\u001b[K     |█████████████████               | 61kB 33.9MB/s eta 0:00:01\r\u001b[K     |███████████████████▊            | 71kB 21.6MB/s eta 0:00:01\r\u001b[K     |██████████████████████▋         | 81kB 21.5MB/s eta 0:00:01\r\u001b[K     |█████████████████████████▍      | 92kB 23.0MB/s eta 0:00:01\r\u001b[K     |████████████████████████████▏   | 102kB 20.7MB/s eta 0:00:01\r\u001b[K     |███████████████████████████████ | 112kB 20.7MB/s eta 0:00:01\r\u001b[K     |████████████████████████████████| 122kB 20.7MB/s \n",
            "\u001b[?25hRequirement already satisfied: tqdm in /usr/local/lib/python3.7/dist-packages (from spektral) (4.41.1)\n",
            "Requirement already satisfied: networkx in /usr/local/lib/python3.7/dist-packages (from spektral) (2.5)\n",
            "Requirement already satisfied: requests in /usr/local/lib/python3.7/dist-packages (from spektral) (2.23.0)\n",
            "Requirement already satisfied: pandas in /usr/local/lib/python3.7/dist-packages (from spektral) (1.1.5)\n",
            "Requirement already satisfied: tensorflow>=2.1.0 in /usr/local/lib/python3.7/dist-packages (from spektral) (2.4.1)\n",
            "Requirement already satisfied: numpy in /usr/local/lib/python3.7/dist-packages (from spektral) (1.19.5)\n",
            "Requirement already satisfied: lxml in /usr/local/lib/python3.7/dist-packages (from spektral) (4.2.6)\n",
            "Requirement already satisfied: joblib in /usr/local/lib/python3.7/dist-packages (from spektral) (1.0.1)\n",
            "Requirement already satisfied: scikit-learn in /usr/local/lib/python3.7/dist-packages (from spektral) (0.22.2.post1)\n",
            "Requirement already satisfied: scipy in /usr/local/lib/python3.7/dist-packages (from spektral) (1.4.1)\n",
            "Requirement already satisfied: decorator>=4.3.0 in /usr/local/lib/python3.7/dist-packages (from networkx->spektral) (4.4.2)\n",
            "Requirement already satisfied: idna<3,>=2.5 in /usr/local/lib/python3.7/dist-packages (from requests->spektral) (2.10)\n",
            "Requirement already satisfied: urllib3!=1.25.0,!=1.25.1,<1.26,>=1.21.1 in /usr/local/lib/python3.7/dist-packages (from requests->spektral) (1.24.3)\n",
            "Requirement already satisfied: certifi>=2017.4.17 in /usr/local/lib/python3.7/dist-packages (from requests->spektral) (2020.12.5)\n",
            "Requirement already satisfied: chardet<4,>=3.0.2 in /usr/local/lib/python3.7/dist-packages (from requests->spektral) (3.0.4)\n",
            "Requirement already satisfied: python-dateutil>=2.7.3 in /usr/local/lib/python3.7/dist-packages (from pandas->spektral) (2.8.1)\n",
            "Requirement already satisfied: pytz>=2017.2 in /usr/local/lib/python3.7/dist-packages (from pandas->spektral) (2018.9)\n",
            "Requirement already satisfied: typing-extensions~=3.7.4 in /usr/local/lib/python3.7/dist-packages (from tensorflow>=2.1.0->spektral) (3.7.4.3)\n",
            "Requirement already satisfied: protobuf>=3.9.2 in /usr/local/lib/python3.7/dist-packages (from tensorflow>=2.1.0->spektral) (3.12.4)\n",
            "Requirement already satisfied: termcolor~=1.1.0 in /usr/local/lib/python3.7/dist-packages (from tensorflow>=2.1.0->spektral) (1.1.0)\n",
            "Requirement already satisfied: google-pasta~=0.2 in /usr/local/lib/python3.7/dist-packages (from tensorflow>=2.1.0->spektral) (0.2.0)\n",
            "Requirement already satisfied: flatbuffers~=1.12.0 in /usr/local/lib/python3.7/dist-packages (from tensorflow>=2.1.0->spektral) (1.12)\n",
            "Requirement already satisfied: wheel~=0.35 in /usr/local/lib/python3.7/dist-packages (from tensorflow>=2.1.0->spektral) (0.36.2)\n",
            "Requirement already satisfied: wrapt~=1.12.1 in /usr/local/lib/python3.7/dist-packages (from tensorflow>=2.1.0->spektral) (1.12.1)\n",
            "Requirement already satisfied: tensorboard~=2.4 in /usr/local/lib/python3.7/dist-packages (from tensorflow>=2.1.0->spektral) (2.4.1)\n",
            "Requirement already satisfied: absl-py~=0.10 in /usr/local/lib/python3.7/dist-packages (from tensorflow>=2.1.0->spektral) (0.10.0)\n",
            "Requirement already satisfied: opt-einsum~=3.3.0 in /usr/local/lib/python3.7/dist-packages (from tensorflow>=2.1.0->spektral) (3.3.0)\n",
            "Requirement already satisfied: astunparse~=1.6.3 in /usr/local/lib/python3.7/dist-packages (from tensorflow>=2.1.0->spektral) (1.6.3)\n",
            "Requirement already satisfied: six~=1.15.0 in /usr/local/lib/python3.7/dist-packages (from tensorflow>=2.1.0->spektral) (1.15.0)\n",
            "Requirement already satisfied: gast==0.3.3 in /usr/local/lib/python3.7/dist-packages (from tensorflow>=2.1.0->spektral) (0.3.3)\n",
            "Requirement already satisfied: h5py~=2.10.0 in /usr/local/lib/python3.7/dist-packages (from tensorflow>=2.1.0->spektral) (2.10.0)\n",
            "Requirement already satisfied: keras-preprocessing~=1.1.2 in /usr/local/lib/python3.7/dist-packages (from tensorflow>=2.1.0->spektral) (1.1.2)\n",
            "Requirement already satisfied: grpcio~=1.32.0 in /usr/local/lib/python3.7/dist-packages (from tensorflow>=2.1.0->spektral) (1.32.0)\n",
            "Requirement already satisfied: tensorflow-estimator<2.5.0,>=2.4.0 in /usr/local/lib/python3.7/dist-packages (from tensorflow>=2.1.0->spektral) (2.4.0)\n",
            "Requirement already satisfied: setuptools in /usr/local/lib/python3.7/dist-packages (from protobuf>=3.9.2->tensorflow>=2.1.0->spektral) (53.0.0)\n",
            "Requirement already satisfied: werkzeug>=0.11.15 in /usr/local/lib/python3.7/dist-packages (from tensorboard~=2.4->tensorflow>=2.1.0->spektral) (1.0.1)\n",
            "Requirement already satisfied: google-auth<2,>=1.6.3 in /usr/local/lib/python3.7/dist-packages (from tensorboard~=2.4->tensorflow>=2.1.0->spektral) (1.27.0)\n",
            "Requirement already satisfied: markdown>=2.6.8 in /usr/local/lib/python3.7/dist-packages (from tensorboard~=2.4->tensorflow>=2.1.0->spektral) (3.3.3)\n",
            "Requirement already satisfied: google-auth-oauthlib<0.5,>=0.4.1 in /usr/local/lib/python3.7/dist-packages (from tensorboard~=2.4->tensorflow>=2.1.0->spektral) (0.4.2)\n",
            "Requirement already satisfied: tensorboard-plugin-wit>=1.6.0 in /usr/local/lib/python3.7/dist-packages (from tensorboard~=2.4->tensorflow>=2.1.0->spektral) (1.8.0)\n",
            "Requirement already satisfied: rsa<5,>=3.1.4; python_version >= \"3.6\" in /usr/local/lib/python3.7/dist-packages (from google-auth<2,>=1.6.3->tensorboard~=2.4->tensorflow>=2.1.0->spektral) (4.7.1)\n",
            "Requirement already satisfied: cachetools<5.0,>=2.0.0 in /usr/local/lib/python3.7/dist-packages (from google-auth<2,>=1.6.3->tensorboard~=2.4->tensorflow>=2.1.0->spektral) (4.2.1)\n",
            "Requirement already satisfied: pyasn1-modules>=0.2.1 in /usr/local/lib/python3.7/dist-packages (from google-auth<2,>=1.6.3->tensorboard~=2.4->tensorflow>=2.1.0->spektral) (0.2.8)\n",
            "Requirement already satisfied: importlib-metadata; python_version < \"3.8\" in /usr/local/lib/python3.7/dist-packages (from markdown>=2.6.8->tensorboard~=2.4->tensorflow>=2.1.0->spektral) (3.4.0)\n",
            "Requirement already satisfied: requests-oauthlib>=0.7.0 in /usr/local/lib/python3.7/dist-packages (from google-auth-oauthlib<0.5,>=0.4.1->tensorboard~=2.4->tensorflow>=2.1.0->spektral) (1.3.0)\n",
            "Requirement already satisfied: pyasn1>=0.1.3 in /usr/local/lib/python3.7/dist-packages (from rsa<5,>=3.1.4; python_version >= \"3.6\"->google-auth<2,>=1.6.3->tensorboard~=2.4->tensorflow>=2.1.0->spektral) (0.4.8)\n",
            "Requirement already satisfied: zipp>=0.5 in /usr/local/lib/python3.7/dist-packages (from importlib-metadata; python_version < \"3.8\"->markdown>=2.6.8->tensorboard~=2.4->tensorflow>=2.1.0->spektral) (3.4.0)\n",
            "Requirement already satisfied: oauthlib>=3.0.0 in /usr/local/lib/python3.7/dist-packages (from requests-oauthlib>=0.7.0->google-auth-oauthlib<0.5,>=0.4.1->tensorboard~=2.4->tensorflow>=2.1.0->spektral) (3.1.0)\n",
            "Installing collected packages: spektral\n",
            "Successfully installed spektral-1.0.4\n"
          ],
          "name": "stdout"
        }
      ]
    },
    {
      "cell_type": "code",
      "metadata": {
        "colab": {
          "base_uri": "https://localhost:8080/"
        },
        "id": "WEgndyEf1HEG",
        "outputId": "de0084c0-8881-4e60-f03d-d27905e52356"
      },
      "source": [
        "from spektral.datasets import TUDataset\r\n",
        "import numpy as np\r\n",
        "\r\n",
        "dataset = TUDataset('PROTEINS')\r\n",
        "dataset_scale = 1\r\n",
        "total_samples = int(np.floor(len(dataset)*dataset_scale))\r\n",
        "\r\n",
        "\r\n",
        "dataset = dataset[:total_samples]\r\n",
        "num_trainpoints = int(np.floor(0.6*len(dataset)))\r\n",
        "num_valpoints = int(np.floor(num_trainpoints/3))\r\n",
        "num_testpoints = len(dataset) - (num_trainpoints + num_valpoints)\r\n",
        "traindata= dataset[0:num_trainpoints]\r\n",
        "valdata = dataset[num_trainpoints:num_trainpoints + num_valpoints]\r\n",
        "testdata = dataset[num_trainpoints + num_valpoints:]\r\n",
        "batch_size = 32\r\n",
        "train_loader = DataLoader(traindata, batch_size, shuffle=True)\r\n",
        "test_loader = DataLoader(testdata, batch_size, shuffle=False)\r\n",
        "val_loader =  DataLoader(valdata, batch_size, shuffle=False)\r\n",
        "\r\n",
        "#set up random seeds \r\n",
        "torch.manual_seed(1)\r\n",
        "np.random.seed(2)   \r\n",
        "torch.backends.cudnn.deterministic = True\r\n",
        "torch.backends.cudnn.benchmark = False"
      ],
      "execution_count": 10,
      "outputs": [
        {
          "output_type": "stream",
          "text": [
            "Successfully loaded PROTEINS.\n"
          ],
          "name": "stdout"
        }
      ]
    },
    {
      "cell_type": "markdown",
      "metadata": {
        "id": "42NNmvmVHFoZ"
      },
      "source": [
        "# Train"
      ]
    },
    {
      "cell_type": "code",
      "metadata": {
        "id": "0tLicuy2HH3A"
      },
      "source": [
        "def predict(model, data_loader, recfield):\r\n",
        "    model.train()\r\n",
        "    avg_loss = 0\r\n",
        "    avg_cliqdist = 0\r\n",
        "    exp_cardinalities = torch.tensor(0)\r\n",
        "    for data in data_loader:\r\n",
        "        optimizer.zero_grad()\r\n",
        "        data = data.to(device)\r\n",
        "        data = get_diracs(data, 1, sparse = True, effective_volume_range=0.15, receptive_field = recfield)\r\n",
        "        data = data.to(device)\r\n",
        "        retdict = model(data)\r\n",
        "        avg_loss += retdict['loss'][0].item()/len(data_loader)\r\n",
        "        avg_cliqdist += retdict[\"Currvol/Cliquevol\"][0].item()/len(data_loader)\r\n",
        "        exp_cardinalities = [retdict[\"Expected_cardinality_hist\"][0]]\r\n",
        "    return avg_loss, avg_cliqdist, exp_cardinalities"
      ],
      "execution_count": 11,
      "outputs": []
    },
    {
      "cell_type": "code",
      "metadata": {
        "colab": {
          "base_uri": "https://localhost:8080/",
          "height": 296
        },
        "id": "kQrrAtr6dEuB",
        "outputId": "8c342921-0eb4-496e-b81e-79a9972903ee"
      },
      "source": [
        "from models import clique_MPNN, cut_MPNN\r\n",
        "net =  clique_MPNN(dataset,2, 32, 16 ,1, elasticity = None)"
      ],
      "execution_count": 19,
      "outputs": [
        {
          "output_type": "error",
          "ename": "NameError",
          "evalue": "ignored",
          "traceback": [
            "\u001b[0;31m---------------------------------------------------------------------------\u001b[0m",
            "\u001b[0;31mNameError\u001b[0m                                 Traceback (most recent call last)",
            "\u001b[0;32m<ipython-input-19-f4d9f92d6b60>\u001b[0m in \u001b[0;36m<module>\u001b[0;34m()\u001b[0m\n\u001b[1;32m      1\u001b[0m \u001b[0;32mfrom\u001b[0m \u001b[0mmodels\u001b[0m \u001b[0;32mimport\u001b[0m \u001b[0mclique_MPNN\u001b[0m\u001b[0;34m,\u001b[0m \u001b[0mcut_MPNN\u001b[0m\u001b[0;34m\u001b[0m\u001b[0;34m\u001b[0m\u001b[0m\n\u001b[0;32m----> 2\u001b[0;31m \u001b[0mnet\u001b[0m \u001b[0;34m=\u001b[0m  \u001b[0mclique_MPNN\u001b[0m\u001b[0;34m(\u001b[0m\u001b[0mdataset\u001b[0m\u001b[0;34m,\u001b[0m\u001b[0;36m2\u001b[0m\u001b[0;34m,\u001b[0m \u001b[0;36m32\u001b[0m\u001b[0;34m,\u001b[0m \u001b[0;36m16\u001b[0m \u001b[0;34m,\u001b[0m\u001b[0;36m1\u001b[0m\u001b[0;34m,\u001b[0m \u001b[0melasticity\u001b[0m \u001b[0;34m=\u001b[0m \u001b[0;32mNone\u001b[0m\u001b[0;34m)\u001b[0m\u001b[0;34m\u001b[0m\u001b[0;34m\u001b[0m\u001b[0m\n\u001b[0m",
            "\u001b[0;32m/content/drive/My Drive/ISLR Course - Fall 2020/Project/models.py\u001b[0m in \u001b[0;36m__init__\u001b[0;34m(self, dataset, num_layers, hidden1, hidden2, deltas, elasticity, num_iterations)\u001b[0m\n\u001b[1;32m    242\u001b[0m \u001b[0;32mclass\u001b[0m \u001b[0mclique_MPNN\u001b[0m\u001b[0;34m(\u001b[0m\u001b[0mtorch\u001b[0m\u001b[0;34m.\u001b[0m\u001b[0mnn\u001b[0m\u001b[0;34m.\u001b[0m\u001b[0mModule\u001b[0m\u001b[0;34m)\u001b[0m\u001b[0;34m:\u001b[0m\u001b[0;34m\u001b[0m\u001b[0;34m\u001b[0m\u001b[0m\n\u001b[1;32m    243\u001b[0m     \u001b[0;32mdef\u001b[0m \u001b[0m__init__\u001b[0m\u001b[0;34m(\u001b[0m\u001b[0mself\u001b[0m\u001b[0;34m,\u001b[0m \u001b[0mdataset\u001b[0m\u001b[0;34m,\u001b[0m \u001b[0mnum_layers\u001b[0m\u001b[0;34m,\u001b[0m \u001b[0mhidden1\u001b[0m\u001b[0;34m,\u001b[0m \u001b[0mhidden2\u001b[0m\u001b[0;34m,\u001b[0m \u001b[0mdeltas\u001b[0m\u001b[0;34m,\u001b[0m \u001b[0melasticity\u001b[0m\u001b[0;34m=\u001b[0m\u001b[0;36m0.01\u001b[0m\u001b[0;34m,\u001b[0m \u001b[0mnum_iterations\u001b[0m \u001b[0;34m=\u001b[0m \u001b[0;36m30\u001b[0m\u001b[0;34m)\u001b[0m\u001b[0;34m:\u001b[0m\u001b[0;34m\u001b[0m\u001b[0;34m\u001b[0m\u001b[0m\n\u001b[0;32m--> 244\u001b[0;31m \u001b[0;34m\u001b[0m\u001b[0m\n\u001b[0m\u001b[1;32m    245\u001b[0m         \u001b[0msuper\u001b[0m\u001b[0;34m(\u001b[0m\u001b[0mclique_MPNN\u001b[0m\u001b[0;34m,\u001b[0m \u001b[0mself\u001b[0m\u001b[0;34m)\u001b[0m\u001b[0;34m.\u001b[0m\u001b[0m__init__\u001b[0m\u001b[0;34m(\u001b[0m\u001b[0;34m)\u001b[0m\u001b[0;34m\u001b[0m\u001b[0;34m\u001b[0m\u001b[0m\n\u001b[1;32m    246\u001b[0m         \u001b[0mself\u001b[0m\u001b[0;34m.\u001b[0m\u001b[0mhidden1\u001b[0m \u001b[0;34m=\u001b[0m \u001b[0mhidden1\u001b[0m\u001b[0;34m\u001b[0m\u001b[0;34m\u001b[0m\u001b[0m\n",
            "\u001b[0;31mNameError\u001b[0m: name 'cliqueMPNN_hindsight_earlyGAT' is not defined"
          ]
        }
      ]
    },
    {
      "cell_type": "code",
      "metadata": {
        "id": "5RmPXecFHM6Q",
        "colab": {
          "base_uri": "https://localhost:8080/",
          "height": 229
        },
        "outputId": "b71b73be-1920-498e-c6c7-784d5c1d2902"
      },
      "source": [
        "b_sizes = [32]\r\n",
        "l_rates = [0.001]\r\n",
        "depths = [4]\r\n",
        "coefficients = [4.]\r\n",
        "rand_seeds = [66]\r\n",
        "widths = [64]\r\n",
        "epochs = 100\r\n",
        "net.train()\r\n",
        "retdict = {}\r\n",
        "edge_drop_p = 0.0\r\n",
        "edge_dropout_decay = 0.90\r\n",
        "penalty_coeff = 9.00\r\n",
        "penalty_increase = -0.00\r\n",
        "validation_timeout = 75\r\n",
        "\r\n",
        "\r\n",
        "#save_path = \"%PATH\"\r\n",
        "\r\n",
        "for batch_size, learning_rate, numlayers, penalty_coeff, r_seed, hidden_1 in product(b_sizes, l_rates, depths, coefficients, rand_seeds, widths):\r\n",
        "   \r\n",
        "    torch.manual_seed(r_seed)\r\n",
        "    train_loader = DataLoader(traindata, batch_size, shuffle=True)\r\n",
        "    test_loader = DataLoader(testdata, batch_size, shuffle=False)\r\n",
        "    val_loader =  DataLoader(valdata, batch_size, shuffle=False)\r\n",
        "\r\n",
        "    receptive_field= numlayers + 1\r\n",
        "    val_losses = []\r\n",
        "    cliq_dists = []\r\n",
        "\r\n",
        "    hidden_2 = 1\r\n",
        "\r\n",
        "    net =  clique_MPNN(dataset,numlayers, hidden_1, hidden_2 ,1, elasticity = None)\r\n",
        "    net.to(device).reset_parameters()\r\n",
        "    optimizer = Adam(net.parameters(), lr=learning_rate, weight_decay=0.00000)\r\n",
        "    \r\n",
        "    plotter = VisdomLinePlotter(env_name=envname)\r\n",
        "    for epoch in range(epochs):\r\n",
        "        totalretdict = {}\r\n",
        "        count=0\r\n",
        "        if epoch % 5 == 0:\r\n",
        "            edge_drop_p = edge_drop_p*edge_dropout_decay\r\n",
        "            print(\"Edge_dropout: \", edge_drop_p)\r\n",
        "\r\n",
        "        if epoch % 10 == 0:\r\n",
        "            penalty_coeff = penalty_coeff + 0.\r\n",
        "            print(\"Penalty_coefficient: \", penalty_coeff)\r\n",
        "\r\n",
        "        if epoch % 15 == 0:\r\n",
        "            val_l, cliq_dist, val_cardinalities= predict(net, val_loader, receptive_field)\r\n",
        "            val_losses += [val_l]\r\n",
        "            cliq_dists += [cliq_dist]\r\n",
        "            if epoch>30:\r\n",
        "                if (val_losses[-1] > val_losses[-2]) and (val_losses[-1] > val_losses[-3]) and (epoch>validation_timeout):\r\n",
        "                    print(\"Converged!\")\r\n",
        "                    if val_losses[-2] < val_losses[-3]:\r\n",
        "                        print(\"Best model epoch: \", epoch-15)\r\n",
        "                        #file_name = save_path+ str(dataset_name)+ '/' + str(net)+ '_'+ str(epoch-15)+'_samples.pt'\r\n",
        "                        #net.load_state_dict(torch.load(file_name), strict=False)\r\n",
        "                    else:\r\n",
        "                        print(\"Best model epoch: \", epoch-30)\r\n",
        "                        #file_name = save_path+ str(dataset_name)+ '/' + str(net)+ '_'+ str(epoch-30)+'_samples.pt'\r\n",
        "                        #net.load_state_dict(torch.load(file_name), strict=False)\r\n",
        "                    break\r\n",
        "                if epoch%15==0:\r\n",
        "                    #file_name = save_path+ str(dataset_name)+ '/' + str(net)+ '_'+ str(epoch)+'_samples.pt'\r\n",
        "                    print(\"file_name: \", file_name)\r\n",
        "                    #torch.save({file_name : net.state_dict()},  file_name)\r\n",
        "\r\n",
        "        if epoch % lr_decay_step_size == 0:\r\n",
        "            for param_group in optimizer.param_groups:\r\n",
        "                        param_group['lr'] = lr_decay_factor * param_group['lr']\r\n",
        "        net.train()\r\n",
        "        for data in train_loader:\r\n",
        "            count += 1 \r\n",
        "            optimizer.zero_grad(), \r\n",
        "            data = data.to(device)\r\n",
        "            data_prime = get_diracs(data, 1, sparse = True, effective_volume_range=0.15, receptive_field = receptive_field)\r\n",
        "\r\n",
        "            data = data.to('cpu')\r\n",
        "            data_prime = data_prime.to(device)\r\n",
        "            retdict = net(data_prime, edge_drop_p, penalty_coeff)\r\n",
        "            \r\n",
        "            for key,val in retdict.items():\r\n",
        "                if \"sequence\" in val[1]:\r\n",
        "                    if key in totalretdict:\r\n",
        "                        totalretdict[key][0] += val[0].item()\r\n",
        "                    else:\r\n",
        "                        totalretdict[key] = [val[0].item(),val[1]]\r\n",
        "\r\n",
        "            if epoch > 2:\r\n",
        "                    retdict[\"loss\"][0].backward()\r\n",
        "\r\n",
        "                    torch.nn.utils.clip_grad_norm_(net.parameters(),1)\r\n",
        "                    optimizer.step()\r\n",
        "                    del(retdict)\r\n",
        "\r\n",
        "            del data_prime"
      ],
      "execution_count": 96,
      "outputs": [
        {
          "output_type": "error",
          "ename": "NameError",
          "evalue": "ignored",
          "traceback": [
            "\u001b[0;31m---------------------------------------------------------------------------\u001b[0m",
            "\u001b[0;31mNameError\u001b[0m                                 Traceback (most recent call last)",
            "\u001b[0;32m<ipython-input-96-711a6408e3f5>\u001b[0m in \u001b[0;36m<module>\u001b[0;34m()\u001b[0m\n\u001b[1;32m      6\u001b[0m \u001b[0mwidths\u001b[0m \u001b[0;34m=\u001b[0m \u001b[0;34m[\u001b[0m\u001b[0;36m64\u001b[0m\u001b[0;34m]\u001b[0m\u001b[0;34m\u001b[0m\u001b[0;34m\u001b[0m\u001b[0m\n\u001b[1;32m      7\u001b[0m \u001b[0mepochs\u001b[0m \u001b[0;34m=\u001b[0m \u001b[0;36m100\u001b[0m\u001b[0;34m\u001b[0m\u001b[0;34m\u001b[0m\u001b[0m\n\u001b[0;32m----> 8\u001b[0;31m \u001b[0mnet\u001b[0m\u001b[0;34m.\u001b[0m\u001b[0mtrain\u001b[0m\u001b[0;34m(\u001b[0m\u001b[0;34m)\u001b[0m\u001b[0;34m\u001b[0m\u001b[0;34m\u001b[0m\u001b[0m\n\u001b[0m\u001b[1;32m      9\u001b[0m \u001b[0mretdict\u001b[0m \u001b[0;34m=\u001b[0m \u001b[0;34m{\u001b[0m\u001b[0;34m}\u001b[0m\u001b[0;34m\u001b[0m\u001b[0;34m\u001b[0m\u001b[0m\n\u001b[1;32m     10\u001b[0m \u001b[0medge_drop_p\u001b[0m \u001b[0;34m=\u001b[0m \u001b[0;36m0.0\u001b[0m\u001b[0;34m\u001b[0m\u001b[0;34m\u001b[0m\u001b[0m\n",
            "\u001b[0;31mNameError\u001b[0m: name 'net' is not defined"
          ]
        }
      ]
    },
    {
      "cell_type": "markdown",
      "metadata": {
        "id": "T9i8-q40HOKc"
      },
      "source": [
        "# Evaluate"
      ]
    },
    {
      "cell_type": "code",
      "metadata": {
        "id": "KCPhL0tsHfsM"
      },
      "source": [
        "test_data = testdata\r\n",
        "test_loader = DataLoader(test_data, batch-size, shuffle=False)\r\n",
        "net.to(device)\r\n",
        "count = 1\r\n",
        "net.eval()\r\n",
        "\r\n",
        "gnn_nodes = []\r\n",
        "gnn_edges = []\r\n",
        "gnn_sets = {}\r\n",
        "#number of random samples\r\n",
        "max_samples = 1\r\n",
        "gnn_times = []\r\n",
        "num_samples = max_samples\r\n",
        "t_start = time.time()\r\n",
        "\r\n",
        "\r\n",
        "for data in test_loader:\r\n",
        "    num_graphs = data.batch.max().item()+1\r\n",
        "    bestset = {}\r\n",
        "    bestedges = np.zeros((num_graphs))\r\n",
        "    maxset = np.zeros((num_graphs))\r\n",
        "    \r\n",
        "    #generate samples\r\n",
        "    total_samples = []\r\n",
        "    for graph in range(num_graphs):\r\n",
        "        curr_inds = (data.batch==graph)\r\n",
        "        g_size = curr_inds.sum().item()\r\n",
        "        if max_samples <= g_size: \r\n",
        "            samples = np.random.choice(curr_inds.sum().item(),max_samples, replace=False)\r\n",
        "        else:\r\n",
        "            samples = np.random.choice(curr_inds.sum().item(),max_samples, replace=True)\r\n",
        "\r\n",
        "        total_samples +=[samples]\r\n",
        "\r\n",
        "    data = data.to(device)\r\n",
        "    t_0 = time.time()\r\n",
        "    for k in range(num_samples):\r\n",
        "        t_datanet_0 = time.time()\r\n",
        "        data_prime = get_diracs(data.to(device), 1, sparse = True, effective_volume_range=0.15, receptive_field = 7)\r\n",
        "        print(\"Number of nodes: \", data_prime.x.shape[0])\r\n",
        "        initial_values = data_prime.x.detach()\r\n",
        "        data_prime.x = torch.zeros_like(data_prime.x)\r\n",
        "        g_offset = 0\r\n",
        "        for graph in range(num_graphs):\r\n",
        "            curr_inds = (data_prime.batch==graph)\r\n",
        "            g_size = curr_inds.sum().item()\r\n",
        "            graph_x = data_prime.x[curr_inds]\r\n",
        "            data_prime.x[total_samples[graph][k] + g_offset]=1.\r\n",
        "            g_offset += g_size\r\n",
        "       \r\n",
        "        #forward_pass  \r\n",
        "        ret_dict = net(data_prime)\r\n",
        "        \r\n",
        "        #derandomize\r\n",
        "        t_datanet_1 = time.time() - t_datanet_0\r\n",
        "        print(\"data prep and fp: \", t_datanet_1)\r\n",
        "        t_derand_0 = time.time()\r\n",
        "        _, set_edges, set_cardinality = derandomize_clique_final_speed(data_prime,(ret_dict[\"output\"][0]), weight_factor =0.,draw=False, beam = 1)\r\n",
        "        t_derand_1 = time.time() - t_derand_0\r\n",
        "        print(\"Derandomization time: \", t_derand_1)\r\n",
        "        for j in range(num_graphs):\r\n",
        "            indices = (data.batch == j)\r\n",
        "            if (set_cardinality[j]>maxset[j]):\r\n",
        "                    maxset[j] = set_cardinality[j].item()\r\n",
        "                    bestset[str(j)] = sets[indices].cpu()\r\n",
        "                    bestedges[j] = set_edges[j].item()\r\n",
        "\r\n",
        "    t_1 = time.time()-t_0\r\n",
        "    print(\"Current batch: \", count)\r\n",
        "    print(\"Time so far: \", time.time()-t_0)\r\n",
        "    gnn_sets[str(count)] = bestset\r\n",
        "    \r\n",
        "    gnn_nodes += [maxset]\r\n",
        "    gnn_edges += [bestedges]\r\n",
        "    gnn_times += [t_1]\r\n",
        "\r\n",
        "\r\n",
        "\r\n",
        "\r\n",
        "    count += 1\r\n",
        "t_1 = time.time()\r\n",
        "total_time = t_1 - t_start\r\n",
        "print(\"Average time per graph: \", total_time/(len(test_data)))"
      ],
      "execution_count": null,
      "outputs": []
    }
  ]
}